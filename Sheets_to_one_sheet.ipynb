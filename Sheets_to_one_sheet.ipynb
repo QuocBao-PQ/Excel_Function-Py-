{
 "cells": [
  {
   "cell_type": "code",
   "execution_count": 164,
   "id": "f376ad7a-dc4b-44e2-88ee-ca04ed43fcf1",
   "metadata": {},
   "outputs": [
    {
     "name": "stdout",
     "output_type": "stream",
     "text": [
      "This function will concatenate sheets in one excel file into one sheet\n",
      "Create an excel file that compiles all of the sheets you want.\n",
      "If you want to compile multiple random sheets that you input (ex: 1, 3, 5, 15, 8) ---> Choose 1\n",
      "If you want to compile a sequence of sheets (ex: 2 to 20) ---> Choose 2\n"
     ]
    },
    {
     "name": "stdin",
     "output_type": "stream",
     "text": [
      "Enter your option: 1\n"
     ]
    },
    {
     "name": "stdout",
     "output_type": "stream",
     "text": [
      "Enter your file path:\n"
     ]
    },
    {
     "name": "stdin",
     "output_type": "stream",
     "text": [
      " \"C:\\Users\\PC\\OneDrive\\DA\\Python\\Minigame3\\Formatted\\Python Challenge Tracking (BK).xlsx\"\n"
     ]
    },
    {
     "name": "stdout",
     "output_type": "stream",
     "text": [
      "This is all of the sheets of your file with corresponding sequential numbers.\n",
      "{\n",
      "    1: \"Python Challenge Prize\",\n",
      "    2: \"Python Challenge Tracking\",\n",
      "    3: \"Form Responses 1\",\n",
      "    4: \"Form Responses 2\",\n",
      "    5: \"Form Responses 3\",\n",
      "    6: \"Form Responses 4\",\n",
      "    7: \"Form Responses 5\",\n",
      "    8: \"Form Responses 6\",\n",
      "    9: \"Form Responses 7\",\n",
      "    10: \"Form Responses 8\",\n",
      "    11: \"Form Responses 9\",\n",
      "    12: \"Form Responses 10\",\n",
      "    13: \"Form Responses 11\",\n",
      "    14: \"Form Responses 12\",\n",
      "    15: \"Form Responses 13\",\n",
      "    16: \"Form Responses 14\",\n",
      "    17: \"Form Responses 15\",\n",
      "    18: \"Form Responses 16\",\n",
      "    19: \"Form Responses 17\",\n",
      "    20: \"Form Responses 18\",\n",
      "    21: \"Form Responses 19\",\n",
      "    22: \"Form Responses 20\",\n",
      "    23: \"Form Responses 21\",\n",
      "    24: \"Form Responses 22\",\n",
      "    25: \"Form Responses 23\",\n",
      "    26: \"Form Responses 24\",\n",
      "    27: \"Form Responses 25\",\n",
      "    28: \"Form Responses 26\",\n",
      "    29: \"Form Responses 27\",\n",
      "    30: \"Form Responses 28\",\n",
      "    31: \"Form Responses 29\",\n",
      "    32: \"Form Responses 32\",\n",
      "    33: \"Form Responses 30\",\n",
      "    34: \"Form Responses 31\",\n",
      "    35: \"BANNED\",\n",
      "}\n"
     ]
    },
    {
     "name": "stdin",
     "output_type": "stream",
     "text": [
      "Enter the number of sheets that you want to compile, for each sheet use a comma (,) to separate: 55,5,7,6\n"
     ]
    },
    {
     "name": "stdout",
     "output_type": "stream",
     "text": [
      "This is your input: [55, 5, 7, 6]\n",
      "Here are all the sheets from your file: [1, 2, 3, 4, 5, 6, 7, 8, 9, 10, 11, 12, 13, 14, 15, 16, 17, 18, 19, 20, 21, 22, 23, 24, 25, 26, 27, 28, 29, 30, 31, 32, 33, 34, 35]\n",
      "There are sheets that you want to compile: ['Form Responses 3', 'Form Responses 5', 'Form Responses 4']\n",
      "Compiling is successful!\n"
     ]
    }
   ],
   "source": [
    "print (\"\"\"This function will concatenate sheets in one excel file into one sheet\n",
    "Create an excel file that compiles all of the sheets you want.\"\"\")\n",
    "       \n",
    "from openpyxl import load_workbook\n",
    "import pandas as pd\n",
    "\n",
    "def compiled_sheet():\n",
    " \n",
    "    print (\"\"\"If you want to compile multiple random sheets that you input (ex: 1, 3, 5, 15, 8) ---> Choose 1\n",
    "If you want to compile a sequence of sheets (ex: 2 to 20) ---> Choose 2\"\"\")\n",
    "    \n",
    "    option_input = int(input(\"Enter your option:\"))\n",
    "    \n",
    "    # Load the workbook\n",
    "    print(\"Enter your file path:\")\n",
    "    file_path = input().replace('\"','')\n",
    "    # file_path = r\"Python Challenge Tracking (BK).xlsx\"\n",
    "    workbook = load_workbook(file_path, read_only=True)\n",
    "    \n",
    "    # Create a dictionary of sheets\n",
    "    dic_sheets = {index + 1: sheet.title for index, sheet in enumerate(workbook)}\n",
    "    print(\"\"\"This is all of the sheets of your file with corresponding sequential numbers.\"\"\")\n",
    "    \n",
    "    # Print the dictionary in the desired format\n",
    "    print(\"{\")\n",
    "    for key, value in dic_sheets.items():\n",
    "        print(f'    {key}: \"{value}\",')\n",
    "    print(\"}\")\n",
    "    \n",
    "    if option_input == 1:\n",
    "        \n",
    "        str_no_input = input('Enter the number of sheets that you want to compile, for each sheet use a comma (,) to separate:')\n",
    "\n",
    "        # Convert the input string to a list of integers\n",
    "        list_no_input = [int(no.strip()) for no in str_no_input.split(',')]\n",
    "        \n",
    "        print(f'This is your input: {list_no_input}')  # Display the input list\n",
    "        \n",
    "        list_sheets = [key for key in dic_sheets]\n",
    "        print(f'Here are all the sheets from your file: {list_sheets}')  # Display the list of sheet keys\n",
    "        \n",
    "        # Find the intersection of the input list and the list of sheet keys\n",
    "        list_compiled_sheets = [dic_sheets[key] for key in list_no_input if key in dic_sheets]\n",
    "        \n",
    "        if list_compiled_sheets == []:\n",
    "            print ('Data Frame is empty!')\n",
    "\n",
    "        else:\n",
    "            print(f'There are sheets that you want to compile: {list_compiled_sheets}')  # Display the compiled list of sheet names\n",
    "    \n",
    "            # Read dataframe of compiled sheets\n",
    "            sheets = pd.read_excel(file_path, sheet_name = list_compiled_sheets)\n",
    "    \n",
    "            # Compile data frame\n",
    "            dataframe = pd.concat([sheets[sheet] for sheet in list_compiled_sheets], ignore_index=True)\n",
    "            # print (dataframe)\n",
    "\n",
    "            # Export to excel file\n",
    "            dataframe.to_excel('compiled_file.xlsx', index = False)\n",
    "            print ('Compiling is successful!')\n",
    "\n",
    "    elif option_input == 2:\n",
    "        \n",
    "        start_sheet = int(input('Enter the number of start sheet:'))\n",
    "        end_sheet = int(input('Enter the number of end sheet:'))\n",
    "\n",
    "        # Check the value of user input and execute\n",
    "        max_sheet = max([key for key in dic_sheets])\n",
    "        if (start_sheet < 1 or end_sheet > max_sheet) or (start_sheet > max_sheet):\n",
    "            print (\"The range of sheets you input is out of the file.\")\n",
    "        elif start_sheet == end_sheet:\n",
    "            print ('This is only one sheet.')\n",
    "        else:\n",
    "            list_compiled = [dic_sheets[sheet] for sheet in range(start_sheet, end_sheet + 1)]\n",
    "            print (f'There are sheets that you want to compile: {list_compiled}')\n",
    "\n",
    "            # Read data frame of sheets \n",
    "            read_sheets = pd.read_excel(file_path, sheet_name=list_compiled)\n",
    "\n",
    "            dataframe = pd.concat(read_sheets, ignore_index=True)\n",
    "            # print (dataframe)\n",
    "\n",
    "            # Export to excel file\n",
    "            dataframe.to_excel('compiled_file.xlsx', index = False)\n",
    "            print ('Your file is compiled successfully!')\n",
    "\n",
    "compiled_sheet()\n",
    "    \n",
    "    \n"
   ]
  }
 ],
 "metadata": {
  "kernelspec": {
   "display_name": "Python 3 (ipykernel)",
   "language": "python",
   "name": "python3"
  },
  "language_info": {
   "codemirror_mode": {
    "name": "ipython",
    "version": 3
   },
   "file_extension": ".py",
   "mimetype": "text/x-python",
   "name": "python",
   "nbconvert_exporter": "python",
   "pygments_lexer": "ipython3",
   "version": "3.12.4"
  }
 },
 "nbformat": 4,
 "nbformat_minor": 5
}
